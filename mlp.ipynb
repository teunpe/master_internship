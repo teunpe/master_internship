{
 "cells": [
  {
   "cell_type": "code",
   "execution_count": 1,
   "metadata": {},
   "outputs": [],
   "source": [
    "from __future__ import print_function\n",
    "import argparse\n",
    "import torch\n",
    "import torch.nn as nn\n",
    "import torch.nn.functional as F\n",
    "import torch.optim as optim\n",
    "from torchvision import datasets, transforms\n",
    "from torch.optim.lr_scheduler import StepLR\n",
    "import numpy as np\n",
    "import random\n",
    "import matplotlib.pyplot as plt\n",
    "import warnings\n",
    "import pandas as pd\n",
    "from tqdm.auto import tqdm"
   ]
  },
  {
   "cell_type": "markdown",
   "metadata": {},
   "source": [
    "### Simple fully connected model for MNIST"
   ]
  },
  {
   "cell_type": "code",
   "execution_count": 2,
   "metadata": {},
   "outputs": [],
   "source": [
    "class Net(nn.Module):\n",
    "    def __init__(self):\n",
    "        super(Net, self).__init__()\n",
    "        self.model = nn.Sequential(\n",
    "            nn.Linear(28*28,512),\n",
    "            nn.ReLU(),\n",
    "            nn.Linear(512, 512),\n",
    "            nn.ReLU(),\n",
    "            nn.Linear(512, 10)\n",
    "            )\n",
    "        self.start_layer = 0\n",
    "        self.end_layer = len(self.model)\n",
    "\n",
    "    def forward(self, x):\n",
    "        x = torch.squeeze(x)\n",
    "        if self.start_layer == 0:\n",
    "            x = x.view(-1, 28*28)\n",
    "        for i in range(self.start_layer, self.end_layer):\n",
    "            x = self.model[i](x)\n",
    "        if self.end_layer == len(self.model):\n",
    "            x = F.log_softmax(x, dim=1)\n",
    "        return x\n",
    "    \n",
    "    def set_start_layer(self, i):\n",
    "        self.start_layer = i\n",
    "\n",
    "    def set_end_layer(self, i):\n",
    "        self.end_layer = i\n",
    "\n",
    "\n",
    "class ConvNet(nn.Module):\n",
    "    def __init__(self):\n",
    "        super(ConvNet, self).__init__()\n",
    "        self.model = nn.Sequential(\n",
    "            nn.Conv2d(1,32,(3,3)),\n",
    "            nn.ReLU(),\n",
    "            nn.MaxPool2d((2,2)),\n",
    "            nn.Conv2d(32, 64, (3,3)),\n",
    "            nn.ReLU(),\n",
    "            nn.MaxPool2d((2,2)),\n",
    "            nn.Flatten(),\n",
    "            nn.Dropout(0.5),\n",
    "            nn.Linear(1600, 10)\n",
    "        )\n",
    "        self.start_layer = 0\n",
    "        self.end_layer = len(self.model)\n",
    "\n",
    "    def forward(self, x):\n",
    "        for i in range(self.start_layer, self.end_layer):\n",
    "            x = self.model[i](x)\n",
    "        if self.end_layer == len(self.model):\n",
    "            x = F.log_softmax(x, dim=1)\n",
    "        return x\n",
    "    \n",
    "    def set_start_layer(self, i):\n",
    "        self.start_layer = i\n",
    "\n",
    "    def set_end_layer(self, i):\n",
    "        self.end_layer = i\n",
    "\n",
    "\n",
    "def train(args, model, device, train_loader, optimizer, epoch):\n",
    "    model.train()\n",
    "    for batch_idx, (data, target) in enumerate(train_loader):\n",
    "        data, target = data.to(device), target.to(device)\n",
    "        optimizer.zero_grad()\n",
    "        output = model(data)\n",
    "        loss = F.nll_loss(output, target)\n",
    "        loss.backward()\n",
    "        optimizer.step()\n",
    "    print('Train Epoch: {} [{}/{} ({:.0f}%)]\\tLoss: {:.6f}'.format(\n",
    "        epoch, batch_idx * len(data), len(train_loader.dataset),\n",
    "        100. * batch_idx / len(train_loader), loss.item()))\n",
    "\n",
    "\n",
    "def test(model, device, test_loader):\n",
    "    model.eval()\n",
    "    test_loss = 0\n",
    "    correct = 0\n",
    "    with torch.no_grad():\n",
    "        for data, target in test_loader:\n",
    "            data, target = data.to(device), target.to(device)\n",
    "            output = model(data)\n",
    "            test_loss += F.nll_loss(output, target, reduction='sum').item()  # sum up batch loss\n",
    "            pred = output.argmax(dim=1, keepdim=True)  # get the index of the max log-probability\n",
    "            correct += pred.eq(target.view_as(pred)).sum().item()\n",
    "\n",
    "    test_loss /= len(test_loader.dataset)\n",
    "\n",
    "    print('\\nTest set: Average loss: {:.4f}, Accuracy: {}/{} ({:.0f}%)\\n'.format(\n",
    "        test_loss, correct, len(test_loader.dataset),\n",
    "        100. * correct / len(test_loader.dataset)))\n",
    "\n",
    "\n",
    "# Training settings\n",
    "parser = argparse.ArgumentParser(description='PyTorch MNIST Example')\n",
    "parser.add_argument('--batch-size', type=int, default=64, metavar='N',\n",
    "                    help='input batch size for training (default: 64)')\n",
    "parser.add_argument('--test-batch-size', type=int, default=1000, metavar='N',\n",
    "                    help='input batch size for testing (default: 1000)')\n",
    "parser.add_argument('--epochs', type=int, default=14, metavar='N',\n",
    "                    help='number of epochs to train (default: 14)')\n",
    "parser.add_argument('--lr', type=float, default=1.0, metavar='LR',\n",
    "                    help='learning rate (default: 1.0)')\n",
    "parser.add_argument('--gamma', type=float, default=0.7, metavar='M',\n",
    "                    help='Learning rate step gamma (default: 0.7)')\n",
    "parser.add_argument('--no-cuda', action='store_true', default=False,\n",
    "                    help='disables CUDA training')\n",
    "parser.add_argument('--no-mps', action='store_true', default=False,\n",
    "                    help='disables macOS GPU training')\n",
    "parser.add_argument('--dry-run', action='store_true', default=False,\n",
    "                    help='quickly check a single pass')\n",
    "parser.add_argument('--seed', type=int, default=1, metavar='S',\n",
    "                    help='random seed (default: 1)')\n",
    "parser.add_argument('--log-interval', type=int, default=10, metavar='N',\n",
    "                    help='how many batches to wait before logging training status')\n",
    "parser.add_argument('--save-model', action='store_true', default=True,\n",
    "                    help='For Saving the current Model')\n",
    "args, unknown = parser.parse_known_args()\n",
    "use_cuda = not args.no_cuda and torch.cuda.is_available()\n",
    "use_mps = not args.no_mps and torch.backends.mps.is_available()\n",
    "\n",
    "torch.manual_seed(args.seed)\n",
    "torch.set_default_dtype(torch.float64)\n",
    "\n",
    "if use_cuda:\n",
    "    device = torch.device(\"cuda\")\n",
    "elif use_mps:\n",
    "    device = torch.device(\"mps\")\n",
    "else:\n",
    "    device = torch.device(\"cpu\")\n",
    "\n",
    "train_kwargs = {'batch_size': args.batch_size}\n",
    "test_kwargs = {'batch_size': args.test_batch_size}\n",
    "if use_cuda:\n",
    "    cuda_kwargs = {'num_workers': 1,\n",
    "                    'pin_memory': True,\n",
    "                    'shuffle': True}\n",
    "    train_kwargs.update(cuda_kwargs)\n",
    "    test_kwargs.update(cuda_kwargs)\n",
    "\n",
    "transform=transforms.Compose([\n",
    "    transforms.ToTensor()\n",
    "    ])\n",
    "dataset1 = datasets.MNIST('../data', train=True, download=True,\n",
    "                    transform=transform)\n",
    "dataset2 = datasets.MNIST('../data', train=False,\n",
    "                    transform=transform)\n",
    "train_loader = torch.utils.data.DataLoader(dataset1,**train_kwargs)\n",
    "test_loader = torch.utils.data.DataLoader(dataset2, **test_kwargs)"
   ]
  },
  {
   "cell_type": "code",
   "execution_count": 3,
   "metadata": {},
   "outputs": [],
   "source": [
    "train_model = False\n",
    "if train_model:\n",
    "    model = ConvNet().to(device)\n",
    "    optimizer = optim.Adadelta(model.parameters(), lr=args.lr)\n",
    "\n",
    "    scheduler = StepLR(optimizer, step_size=1, gamma=args.gamma)\n",
    "    for epoch in tqdm(range(1, args.epochs + 1)):\n",
    "        train(args, model, device, train_loader, optimizer, epoch)\n",
    "        test(model, device, test_loader)\n",
    "        scheduler.step()\n",
    "\n",
    "    if args.save_model:\n",
    "        torch.save(model.state_dict(), \"mnist_cnn.pt\")"
   ]
  },
  {
   "cell_type": "markdown",
   "metadata": {},
   "source": [
    "### Load the model for investigation"
   ]
  },
  {
   "cell_type": "code",
   "execution_count": 4,
   "metadata": {},
   "outputs": [],
   "source": [
    "def load_model(filename: str, type: str='cnn', test: bool=False):\n",
    "    \"\"\" \n",
    "    load the model from the .pt file and evaluate on the test set if requested\n",
    "    :param filename: str of model save filename\n",
    "    :param test: bool dictating if the model is tested\n",
    "    :return: loaded model\n",
    "    \"\"\"\n",
    "    modeldict = torch.load(filename)\n",
    "    if type == 'cnn':\n",
    "        model = ConvNet()\n",
    "    else:\n",
    "        model = Net()\n",
    "    model.load_state_dict(modeldict)\n",
    "    if test:\n",
    "        test(model, device, test_loader)\n",
    "    return model"
   ]
  },
  {
   "cell_type": "code",
   "execution_count": 5,
   "metadata": {},
   "outputs": [],
   "source": [
    "input, clas = next(iter(test_loader))\n",
    "model = load_model('mnist_cnn.pt')"
   ]
  },
  {
   "cell_type": "markdown",
   "metadata": {},
   "source": [
    "Waarde van 'pixel' fluctueren van 0 naar 1 en kijken wat het effect is op de output van het model"
   ]
  },
  {
   "cell_type": "markdown",
   "metadata": {},
   "source": [
    "Mogelijke richtingen: r as, r random, r gradient"
   ]
  },
  {
   "cell_type": "markdown",
   "metadata": {},
   "source": [
    "Gradient: ipv loss.backward kan je y.backward of je hebt w.grad en x.grad (misschien met x.requiresGradient=True). \\\\\n",
    "\n",
    "Torch sequential: hooks/forward hook. layer.addForwardHook(x,... lambda x: )\\\\\n",
    "\n",
    "Ook backward hook voor de gradient. \n",
    "\n",
    "Importance estimation with imprinting:\n",
    "https://openaccess.thecvf.com/content/CVPR2021W/MAI/papers/Liu_Layer_Importance_Estimation_With_Imprinting_for_Neural_Network_Quantization_CVPRW_2021_paper.pdf \n",
    "\n",
    "Importance estimation with pruning:\n",
    "https://openaccess.thecvf.com/content_CVPR_2019/papers/Molchanov_Importance_Estimation_for_Neural_Network_Pruning_CVPR_2019_paper.pdf"
   ]
  },
  {
   "cell_type": "markdown",
   "metadata": {},
   "source": [
    "### Run the modulated input through the model and save outputs"
   ]
  },
  {
   "cell_type": "code",
   "execution_count": 6,
   "metadata": {},
   "outputs": [],
   "source": [
    "def direction(method: str, input: torch.Tensor, grad: torch.Tensor=None):\n",
    "    \"\"\"\n",
    "    calculate the direction of a step given the requested direction type and the input\n",
    "    :param method: string defining the method for calculating the direction ('axis', 'random' or 'gradient')\n",
    "    :param input: input to the layer to be investigated\n",
    "    :return: tensor array with the same shape as the input describing the direction\n",
    "    \"\"\"\n",
    "    dir = torch.ones_like(input)\n",
    "    match method:\n",
    "        case 'axis':\n",
    "            dir = torch.zeros_like(dir)\n",
    "            dir = random_axis(dir)\n",
    "        case 'random':\n",
    "            dir = torch.rand_like(dir) #normal\n",
    "        case 'gradient':\n",
    "            dir = grad.T@torch.ones(grad.shape[0]) #normaliseren\n",
    "        case _:\n",
    "            warnings.warn('Unknown direction type, using all directions', RuntimeWarning)\n",
    "            pass\n",
    "    return dir\n",
    "\n",
    "def random_axis(tensor: torch.Tensor): \n",
    "    \"\"\"\n",
    "    set a random value in an input-shaped tensor of zeros to 1, dictating a random direction along the axis to take the steps in\n",
    "    :param tensor: input-shaped tensor of zeros\n",
    "    :return: tensor of zeros and a 1\n",
    "    \"\"\"\n",
    "    input_length = len(tensor.flatten())\n",
    "\n",
    "    random_numbers = np.array(random.sample(range(0, input_length), input_length))\n",
    "    random_numbers = random_numbers.reshape(np.array(tensor).shape)\n",
    "\n",
    "    random_index = random.sample(range(0, input_length), 1)\n",
    "    random_index = np.where(random_numbers == random_index)\n",
    "    \n",
    "    tensor[random_index] = 1\n",
    "    return tensor"
   ]
  },
  {
   "cell_type": "code",
   "execution_count": 7,
   "metadata": {},
   "outputs": [],
   "source": [
    "def multi_layer_gradient(layers, input, model):\n",
    "    model.set_start_layer(layers[0])\n",
    "    model.set_end_layer(layers[-1])\n",
    "    grad = torch.autograd.functional.jacobian(model, input)\n",
    "    return grad"
   ]
  },
  {
   "cell_type": "code",
   "execution_count": 8,
   "metadata": {},
   "outputs": [],
   "source": [
    "def forward_runs(startinput: torch.Tensor, model, layergroups: list, dirtype: str=None):\n",
    "    \"\"\"\n",
    "    run through the model while creating inputs at the different steps with the given direction. save the outputs for further inspection\n",
    "    :param input: tensor input to the first layer\n",
    "    :param model: neural network \n",
    "    :param dirtype: string describing the method used to find a direction\n",
    "    :return: inputs into each layer with step adjustments, corresponding outputs, dirs, steps and grads\n",
    "    \"\"\"\n",
    "    steps = np.logspace(-5,-1,5)\n",
    "    startinput.requires_grad = True\n",
    "\n",
    "    #for dicts:\n",
    "    dictgroups = []\n",
    "    dictsteps = []\n",
    "    dictinputs = []\n",
    "    dictoutputs = []\n",
    "    dictdirs = []\n",
    "    dictgrads = []\n",
    "\n",
    "    for group in layergroups:\n",
    "        input = startinput\n",
    "        firstlayer = model.model[group[0]]\n",
    "\n",
    "        firstlayer_idx = np.where(np.isin(model.model, firstlayer))[0][0]\n",
    "        if firstlayer_idx > 0:\n",
    "            model.set_start_layer(0)\n",
    "            model.set_end_layer(firstlayer_idx)\n",
    "            input = model(input)\n",
    "        # print(firstlayer)\n",
    "        # print(input.shape)\n",
    "        grad = torch.autograd.functional.jacobian(firstlayer, input)\n",
    "        # print(grad.shape)\n",
    "        dir = direction(dirtype, input, grad)\n",
    "        model.set_start_layer(group[0])\n",
    "        model.set_end_layer(group[-1])\n",
    "\n",
    "        dictgroups.append(str(group))\n",
    "        dictsteps.append(0.)\n",
    "        dictinputs.append(input.detach().clone())\n",
    "        dictoutputs.append(model(input).detach().clone())\n",
    "        dictdirs.append(dir)\n",
    "        dictgrads.append(grad)\n",
    "\n",
    "        for step in steps:\n",
    "            newinput = input + step*dir\n",
    "            newoutput = model(newinput)\n",
    "\n",
    "            # layerinputs.append(newinput.detach().clone())\n",
    "            # layeroutputs.append(newoutput.detach().clone())\n",
    "            inp = newinput.detach().clone()\n",
    "            outp = newoutput.detach().clone()\n",
    "\n",
    "            dictgrad = torch.autograd.functional.jacobian(model, input)\n",
    "            # print(dictgrad.shape)\n",
    "            \n",
    "            dictgroups.append(str(group))\n",
    "            dictsteps.append(step)\n",
    "            dictinputs.append(inp)\n",
    "            dictoutputs.append(outp)\n",
    "            dictdirs.append(dir)\n",
    "            dictgrads.append(dictgrad)\n",
    "\n",
    "    dic = {'group': dictgroups, 'step': dictsteps, 'input': dictinputs, 'output': dictoutputs, 'grad': dictgrads, 'dir': dictdirs}\n",
    "    df = pd.DataFrame.from_dict(dic)\n",
    "    model.set_start_layer(0)\n",
    "    model.set_end_layer(len(model.model))\n",
    "    return df"
   ]
  },
  {
   "cell_type": "code",
   "execution_count": 9,
   "metadata": {},
   "outputs": [
    {
     "name": "stderr",
     "output_type": "stream",
     "text": [
      "/tmp/ipykernel_21078/2961953990.py:18: RuntimeWarning: Unknown direction type, using all directions\n",
      "  warnings.warn('Unknown direction type, using all directions', RuntimeWarning)\n"
     ]
    }
   ],
   "source": [
    "df = forward_runs(input[0], model, [[0,1]], 'grad')"
   ]
  },
  {
   "cell_type": "markdown",
   "metadata": {},
   "source": [
    "f(x+ar) = f(x) + arf'(x)\n",
    "\n",
    "En checken of dit binnen threshold blijft."
   ]
  },
  {
   "cell_type": "code",
   "execution_count": 9,
   "metadata": {},
   "outputs": [
    {
     "ename": "NameError",
     "evalue": "name 'df' is not defined",
     "output_type": "error",
     "traceback": [
      "\u001b[0;31m---------------------------------------------------------------------------\u001b[0m",
      "\u001b[0;31mNameError\u001b[0m                                 Traceback (most recent call last)",
      "Cell \u001b[0;32mIn[9], line 1\u001b[0m\n\u001b[0;32m----> 1\u001b[0m \u001b[43mdf\u001b[49m\n",
      "\u001b[0;31mNameError\u001b[0m: name 'df' is not defined"
     ]
    }
   ],
   "source": [
    "df"
   ]
  },
  {
   "cell_type": "code",
   "execution_count": 22,
   "metadata": {},
   "outputs": [],
   "source": [
    "def calc_exp_act(df: pd.DataFrame):\n",
    "    \"\"\" \n",
    "    calculate the expected outputs assuming linearity, and take the actual outputs from the model\n",
    "    :param df: \n",
    "    :return: expected outputs assuming linearity and actual outputs\n",
    "    \"\"\"\n",
    "    dictgroups = []\n",
    "    dictsteps = []\n",
    "    dictlins = []\n",
    "    for group in np.unique(df['group']):\n",
    "        # print(group)\n",
    "        for step in np.unique(df['step']):\n",
    "            dfoi = df[(df['group']==str(group)) & (df['step']==step)]\n",
    "\n",
    "            step = list(dfoi['step'])[0]\n",
    "            act = list(dfoi['output'])[0]\n",
    "            grad = list(dfoi['grad'])[0]\n",
    "            dir = list(dfoi['dir'])[0]\n",
    "\n",
    "            nostep = list(df[(df['group'] == str(group)) & (df['step'] == 0.)]['output'])[0]\n",
    "            # print(type(nostep), type(step), type(grad), type(dir))\n",
    "            # print(act.shape)\n",
    "            grad = torch.squeeze(grad)\n",
    "            dir = torch.squeeze(dir)\n",
    "\n",
    "            # print(grad.shape, dir.shape)\n",
    "            print(grad.shape, dir.shape)\n",
    "            print(nostep.shape)\n",
    "            test = grad.flatten(start_dim=3)\n",
    "            test2 = dir.flatten()\n",
    "            print(np.matmul(test, test2).shape)\n",
    "            print(test.shape)\n",
    "            exp = nostep + step*np.matmul(grad, dir)\n",
    "\n",
    "            diff = exp - act\n",
    "            lin = np.linalg.norm(diff)\n",
    "\n",
    "            dictgroups.append(group)\n",
    "            dictsteps.append(step)\n",
    "            dictlins.append(lin)\n",
    "\n",
    "    dic = {'group': dictgroups, 'step': dictsteps, 'lin': lin}\n",
    "    df = pd.DataFrame.from_dict(dic)\n",
    "    return df\n",
    "        \n",
    "# exp, act = calc_exp_act(inputs, outputs, dirs, steps, model, grads)"
   ]
  },
  {
   "cell_type": "code",
   "execution_count": 23,
   "metadata": {},
   "outputs": [
    {
     "name": "stdout",
     "output_type": "stream",
     "text": [
      "torch.Size([32, 26, 26, 28, 28]) torch.Size([28, 28])\n",
      "torch.Size([32, 26, 26])\n",
      "torch.Size([32, 26, 26])\n",
      "torch.Size([32, 26, 26, 784])\n"
     ]
    },
    {
     "ename": "RuntimeError",
     "evalue": "The size of tensor a (26) must match the size of tensor b (28) at non-singleton dimension 4",
     "output_type": "error",
     "traceback": [
      "\u001b[0;31m---------------------------------------------------------------------------\u001b[0m",
      "\u001b[0;31mRuntimeError\u001b[0m                              Traceback (most recent call last)",
      "Cell \u001b[0;32mIn[23], line 1\u001b[0m\n\u001b[0;32m----> 1\u001b[0m lindf \u001b[38;5;241m=\u001b[39m \u001b[43mcalc_exp_act\u001b[49m\u001b[43m(\u001b[49m\u001b[43mdf\u001b[49m\u001b[43m)\u001b[49m\n\u001b[1;32m      2\u001b[0m lindf\n",
      "Cell \u001b[0;32mIn[22], line 33\u001b[0m, in \u001b[0;36mcalc_exp_act\u001b[0;34m(df)\u001b[0m\n\u001b[1;32m     31\u001b[0m \u001b[38;5;28mprint\u001b[39m(np\u001b[38;5;241m.\u001b[39mmatmul(test, test2)\u001b[38;5;241m.\u001b[39mshape)\n\u001b[1;32m     32\u001b[0m \u001b[38;5;28mprint\u001b[39m(test\u001b[38;5;241m.\u001b[39mshape)\n\u001b[0;32m---> 33\u001b[0m exp \u001b[38;5;241m=\u001b[39m \u001b[43mnostep\u001b[49m\u001b[43m \u001b[49m\u001b[38;5;241;43m+\u001b[39;49m\u001b[43m \u001b[49m\u001b[43mstep\u001b[49m\u001b[38;5;241;43m*\u001b[39;49m\u001b[43mnp\u001b[49m\u001b[38;5;241;43m.\u001b[39;49m\u001b[43mmatmul\u001b[49m\u001b[43m(\u001b[49m\u001b[43mgrad\u001b[49m\u001b[43m,\u001b[49m\u001b[43m \u001b[49m\u001b[38;5;28;43mdir\u001b[39;49m\u001b[43m)\u001b[49m\n\u001b[1;32m     35\u001b[0m diff \u001b[38;5;241m=\u001b[39m exp \u001b[38;5;241m-\u001b[39m act\n\u001b[1;32m     36\u001b[0m lin \u001b[38;5;241m=\u001b[39m np\u001b[38;5;241m.\u001b[39mlinalg\u001b[38;5;241m.\u001b[39mnorm(diff)\n",
      "\u001b[0;31mRuntimeError\u001b[0m: The size of tensor a (26) must match the size of tensor b (28) at non-singleton dimension 4"
     ]
    }
   ],
   "source": [
    "lindf = calc_exp_act(df)\n",
    "lindf"
   ]
  },
  {
   "cell_type": "markdown",
   "metadata": {},
   "source": [
    "f(x+ar)=f(x) +arf'(x)"
   ]
  },
  {
   "cell_type": "code",
   "execution_count": 14,
   "metadata": {},
   "outputs": [
    {
     "data": {
      "text/plain": [
       "0     [0, 1]\n",
       "1     [0, 1]\n",
       "2     [0, 1]\n",
       "3     [0, 1]\n",
       "4     [0, 1]\n",
       "5     [0, 1]\n",
       "6     [2, 3]\n",
       "7     [2, 3]\n",
       "8     [2, 3]\n",
       "9     [2, 3]\n",
       "10    [2, 3]\n",
       "11    [2, 3]\n",
       "Name: group, dtype: object"
      ]
     },
     "execution_count": 14,
     "metadata": {},
     "output_type": "execute_result"
    }
   ],
   "source": [
    "lindf['group']"
   ]
  },
  {
   "cell_type": "code",
   "execution_count": 38,
   "metadata": {},
   "outputs": [],
   "source": [
    "def plot(model, df: pd.DataFrame, dir: str):\n",
    "    \"\"\" \n",
    "    plot the L2 norms per step size for each layer in the model\n",
    "    :param model: model to be investigated\n",
    "    :param lindf: \n",
    "    :param dir: str describing step direction\n",
    "    \"\"\"\n",
    "\n",
    "    zero = np.zeros(6)\n",
    "\n",
    "    fig, axs = plt.subplots(1, 1, layout='constrained', figsize=(7,4))\n",
    "    groups = np.unique(df['group'])\n",
    "    for i, group in enumerate(groups):\n",
    "        dfoi = df[df['group'] == group]\n",
    "        axs.plot(dfoi['step'], dfoi['lin'], label=f'{group}', alpha=0.7)\n",
    "    # for ax in axs:\n",
    "        \n",
    "    axs.plot(dfoi['step'], zero, label='zero-line')\n",
    "    \n",
    "    axs.set_xscale('log')\n",
    "    axs.legend()\n",
    "    axs.set_ylabel('$L_{2,2}$ norm')\n",
    "    axs.set_xlabel('Step size')\n",
    "    fig.suptitle(f\"Linearity per step size in direction '{dir}'\")"
   ]
  },
  {
   "cell_type": "code",
   "execution_count": 39,
   "metadata": {},
   "outputs": [
    {
     "data": {
      "image/png": "[encoded data removed]",
      "text/plain": [
       "<Figure size 700x400 with 1 Axes>"
      ]
     },
     "metadata": {},
     "output_type": "display_data"
    }
   ],
   "source": [
    "plot(model, lindf, 'gradient')"
   ]
  },
  {
   "cell_type": "code",
   "execution_count": 31,
   "metadata": {},
   "outputs": [
    {
     "data": {
      "text/plain": [
       "Linear(in_features=512, out_features=10, bias=True)"
      ]
     },
     "execution_count": 31,
     "metadata": {},
     "output_type": "execute_result"
    }
   ],
   "source": [
    "model.model[4]"
   ]
  },
  {
   "cell_type": "code",
   "execution_count": 40,
   "metadata": {},
   "outputs": [
    {
     "data": {
      "image/png": "[encoded data removed]",
      "text/plain": [
       "<Figure size 700x400 with 1 Axes>"
      ]
     },
     "metadata": {},
     "output_type": "display_data"
    },
    {
     "data": {
      "image/png": "[encoded data removed]",
      "text/plain": [
       "<Figure size 700x400 with 1 Axes>"
      ]
     },
     "metadata": {},
     "output_type": "display_data"
    },
    {
     "data": {
      "image/png": "[encoded data removed]",
      "text/plain": [
       "<Figure size 700x400 with 1 Axes>"
      ]
     },
     "metadata": {},
     "output_type": "display_data"
    }
   ],
   "source": [
    "def pipeline(model_name: str, dir: str, test_loader=test_loader):\n",
    "    \"\"\"\n",
    "    calculate linearity per layer given a model and test loader, and plot the results\n",
    "    :param model_name: string of model save filename\n",
    "    :param test_loader: test data loader\n",
    "    \"\"\"\n",
    "    model = load_model(model_name)\n",
    "    input = next(iter(test_loader))[0]\n",
    "    df = forward_runs(input[0], model, [[0,3],[0,4],[1,3],[1,4],[2,4]], dir)\n",
    "    lindf = calc_exp_act(df)\n",
    "    plot(model, lindf, dir)\n",
    "\n",
    "\n",
    "pipeline('mnist_cnn.pt', 'gradient')\n",
    "pipeline('mnist_cnn.pt', 'axis')\n",
    "pipeline('mnist_cnn.pt', 'random')"
   ]
  },
  {
   "cell_type": "markdown",
   "metadata": {},
   "source": [
    "checken of we andere resultaten hebben met doubles.\\\n",
    "waarom geen 0 bij kleine stappen? \\\n",
    "checken wat gradient van ReLU is bij x=0\n",
    "bij linear layers verwachten we lineariteit"
   ]
  },
  {
   "cell_type": "markdown",
   "metadata": {},
   "source": [
    "wat als we een groep lagen lineair benadert?\\\n",
    "kan je een groep lagen vervangen door een lineaire laag met gewichten berekend adhv de gradient van de lagen?"
   ]
  },
  {
   "cell_type": "markdown",
   "metadata": {},
   "source": [
    "### Using hooks"
   ]
  },
  {
   "cell_type": "code",
   "execution_count": null,
   "metadata": {},
   "outputs": [],
   "source": [
    "def input_output_hook(self, module, input, output):\n",
    "    self.input = input\n",
    "    self.output = output\n",
    "\n",
    "def gradient_hook(self, module, input: torch.tensor, output: torch.tensor):\n",
    "    output.backward()"
   ]
  }
 ],
 "metadata": {
  "kernelspec": {
   "display_name": "Python 3",
   "language": "python",
   "name": "python3"
  },
  "language_info": {
   "codemirror_mode": {
    "name": "ipython",
    "version": 3
   },
   "file_extension": ".py",
   "mimetype": "text/x-python",
   "name": "python",
   "nbconvert_exporter": "python",
   "pygments_lexer": "ipython3",
   "version": "3.11.8"
  }
 },
 "nbformat": 4,
 "nbformat_minor": 2
}
